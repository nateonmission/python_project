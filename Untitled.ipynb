{
 "cells": [
  {
   "cell_type": "code",
   "execution_count": 39,
   "metadata": {},
   "outputs": [
    {
     "name": "stdout",
     "output_type": "stream",
     "text": [
      "    show_id     type                                    title  \\\n",
      "0  81145628    Movie  Norm of the North: King Sized Adventure   \n",
      "1  80117401    Movie               Jandino: Whatever it Takes   \n",
      "2  70234439  TV Show                       Transformers Prime   \n",
      "3  80058654  TV Show         Transformers: Robots in Disguise   \n",
      "4  80125979    Movie                             #realityhigh   \n",
      "\n",
      "                   director  \\\n",
      "0  Richard Finn, Tim Maltby   \n",
      "1                       NaN   \n",
      "2                       NaN   \n",
      "3                       NaN   \n",
      "4          Fernando Lebrija   \n",
      "\n",
      "                                                cast  \\\n",
      "0  Alan Marriott, Andrew Toth, Brian Dobson, Cole...   \n",
      "1                                   Jandino Asporaat   \n",
      "2  Peter Cullen, Sumalee Montano, Frank Welker, J...   \n",
      "3  Will Friedle, Darren Criss, Constance Zimmer, ...   \n",
      "4  Nesta Cooper, Kate Walsh, John Michael Higgins...   \n",
      "\n",
      "                                    country         date_added  release_year  \\\n",
      "0  United States, India, South Korea, China  September 9, 2019          2019   \n",
      "1                            United Kingdom  September 9, 2016          2016   \n",
      "2                             United States  September 8, 2018          2013   \n",
      "3                             United States  September 8, 2018          2016   \n",
      "4                             United States  September 8, 2017          2017   \n",
      "\n",
      "     rating  duration                           listed_in  \\\n",
      "0     TV-PG    90 min  Children & Family Movies, Comedies   \n",
      "1     TV-MA    94 min                     Stand-Up Comedy   \n",
      "2  TV-Y7-FV  1 Season                            Kids' TV   \n",
      "3     TV-Y7  1 Season                            Kids' TV   \n",
      "4     TV-14    99 min                            Comedies   \n",
      "\n",
      "                                         description  \n",
      "0  Before planning an awesome wedding for his gra...  \n",
      "1  Jandino Asporaat riffs on the challenges of ra...  \n",
      "2  With the help of three human allies, the Autob...  \n",
      "3  When a prison ship crash unleashes hundreds of...  \n",
      "4  When nerdy high schooler Dani finally attracts...  \n"
     ]
    }
   ],
   "source": [
    "from pathlib import Path\n",
    "import pandas as pd\n",
    "\n",
    "ROOT_PATH = Path('.') \n",
    "DATA_FILE_PATH = DATA_PATH.joinpath('netflix-shows').joinpath('netflix_titles.csv')\n",
    "\n",
    "\n",
    "main_data_frame = pd.read_csv(DATA_FILE_PATH)\n",
    "print(main_data_frame.head())"
   ]
  },
  {
   "cell_type": "code",
   "execution_count": null,
   "metadata": {},
   "outputs": [],
   "source": []
  }
 ],
 "metadata": {
  "kernelspec": {
   "display_name": "Python 3",
   "language": "python",
   "name": "python3"
  },
  "language_info": {
   "codemirror_mode": {
    "name": "ipython",
    "version": 3
   },
   "file_extension": ".py",
   "mimetype": "text/x-python",
   "name": "python",
   "nbconvert_exporter": "python",
   "pygments_lexer": "ipython3",
   "version": "3.7.4"
  }
 },
 "nbformat": 4,
 "nbformat_minor": 2
}
